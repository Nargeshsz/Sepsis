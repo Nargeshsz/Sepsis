{
 "cells": [
  {
   "cell_type": "code",
   "execution_count": 1,
   "metadata": {},
   "outputs": [],
   "source": [
    "#Adding Date to the Dataset\n",
    "\n",
    "import pandas as pd\n",
    "from datetime import datetime, timedelta\n",
    "\n",
    "# Load the CSV file into a DataFrame\n",
    "df = pd.read_csv('/Users/nargeshosseinzadeh/Documents/Persown.Doc&info/Demo.P./Data/Dataset(Kalyan)/Pediatric dataset/critically ill pediatric patients in PICU.csv')\n",
    "\n",
    "base_date = datetime(2022, 10, 19, 18, 52)\n",
    "\n",
    "# Function to parse time and add date\n",
    "def parse_time_and_date(time_str):\n",
    "    try:\n",
    "        # Split the time string into hours and minutes\n",
    "        hours, minutes = map(int, time_str.split(':'))\n",
    "        \n",
    "        # If the time is 0:00, increment the base date by one day\n",
    "        if hours == 0 and minutes == 0:\n",
    "            global base_date\n",
    "            base_date += timedelta(days=1)\n",
    "        \n",
    "        # Create a new datetime object with the base date and parsed time\n",
    "        complete_datetime = base_date.replace(hour=hours, minute=minutes)\n",
    "        \n",
    "        # Return the complete datetime\n",
    "        return complete_datetime\n",
    "    except ValueError:\n",
    "        # Handle invalid time formats, return NaN\n",
    "        return pd.NaT\n",
    "\n",
    "# Apply the function to the 'Hour event (seconds)' column and overwrite the column with the new values\n",
    "df['Hour event (seconds)'] = df['Hour event (seconds)'].apply(lambda x: parse_time_and_date(x))\n",
    "\n",
    "# Save the modified DataFrame to a new CSV file if needed\n",
    "df.to_csv('/Users/nargeshosseinzadeh/Documents/Persown.Doc&info/Demo.P./Data/Dataset(Kalyan)/Pediatric dataset/critically_ill_pediatric_patients_modified.csv', index=False)\n"
   ]
  },
  {
   "cell_type": "code",
   "execution_count": 4,
   "metadata": {},
   "outputs": [],
   "source": [
    "import numpy as np\n",
    "\n",
    "# Function to calculate temperature based on heart rate\n",
    "def calculate_temperature(row):\n",
    "    if row['Heart Rate'] < 60 or row['Heart Rate'] > 90:\n",
    "        return 38 if row['Heart Rate'] < 60 else 39\n",
    "    else:\n",
    "        return 36 + (np.random.random() * 2)  # Random temperature between 36 and 38\n",
    "\n",
    "# Apply the function to create the 'Temperature' column\n",
    "df['Temperature'] = df.apply(calculate_temperature, axis=1)\n",
    "# Save the modified DataFrame to a new CSV file if needed\n",
    "df.to_csv('/Users/nargeshosseinzadeh/Documents/Persown.Doc&info/Demo.P./Data/Dataset(Kalyan)/Pediatric dataset/critically_ill_pediatric_patients_modified.csv', index=False)\n"
   ]
  },
  {
   "cell_type": "code",
   "execution_count": 5,
   "metadata": {},
   "outputs": [],
   "source": [
    "# Filter the DataFrame for patients with No. 6, 13, and 21\n",
    "sepsis_patients = df[df['No. Patients'].isin([6, 13, 21])]\n",
    "\n",
    "sepsis_patients.to_csv('/Users/nargeshosseinzadeh/Documents/Persown.Doc&info/Demo.P./DemoScenarios/SepsisCase/SepsisPatients.csv', index=False)\n"
   ]
  },
  {
   "cell_type": "code",
   "execution_count": 6,
   "metadata": {},
   "outputs": [],
   "source": [
    "# Filter the DataFrame for patients with No. 61\n",
    "SepsisShockPatients = df[df['No. Patients'].isin([61])]\n",
    "\n",
    "SepsisShockPatients.to_csv('/Users/nargeshosseinzadeh/Documents/Persown.Doc&info/Demo.P./DemoScenarios/SepsisShockCase/SepsisShockPatients.csv', index=False)\n"
   ]
  },
  {
   "cell_type": "code",
   "execution_count": 7,
   "metadata": {},
   "outputs": [],
   "source": [
    "# Filter the DataFrame for patients with No. 7, 8, 18, 24, 41, 46, 65, 72, 77, 79, 89\n",
    "Post_operative_patients_survived = df[df['No. Patients'].isin([7, 8, 18, 24, 41, 46, 65, 72, 77, 79, 89])]\n",
    "\n",
    "Post_operative_patients_survived.to_csv('/Users/nargeshosseinzadeh/Documents/Persown.Doc&info/Demo.P./DemoScenarios/Post-operative patient survived/Post-operative patient survived.csv', index=False)\n"
   ]
  },
  {
   "cell_type": "code",
   "execution_count": 8,
   "metadata": {},
   "outputs": [],
   "source": [
    "# Filter the DataFrame for patients with No. 49\n",
    "Post_operative_patients_dead = df[df['No. Patients'].isin([49])]\n",
    "\n",
    "Post_operative_patients_dead.to_csv('/Users/nargeshosseinzadeh/Documents/Persown.Doc&info/Demo.P./DemoScenarios/Post-operative patient dead/Post-operative patient dead.csv', index=False)\n"
   ]
  }
 ],
 "metadata": {
  "kernelspec": {
   "display_name": "Python 3",
   "language": "python",
   "name": "python3"
  },
  "language_info": {
   "codemirror_mode": {
    "name": "ipython",
    "version": 3
   },
   "file_extension": ".py",
   "mimetype": "text/x-python",
   "name": "python",
   "nbconvert_exporter": "python",
   "pygments_lexer": "ipython3",
   "version": "3.9.7"
  },
  "orig_nbformat": 4
 },
 "nbformat": 4,
 "nbformat_minor": 2
}
